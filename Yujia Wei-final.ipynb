{
 "cells": [
  {
   "cell_type": "markdown",
   "id": "a2dff2fa-a215-493d-8cd0-508ab0bc3993",
   "metadata": {},
   "source": [
    "# The Analysis of Flower's Role in Mansfield's Short Story"
   ]
  },
  {
   "cell_type": "markdown",
   "id": "46fd1ae0-2bed-4540-9b5a-40ad94e0fca6",
   "metadata": {},
   "source": [
    "## Yujia Wei"
   ]
  },
  {
   "cell_type": "markdown",
   "id": "620e9d7b-1ace-4232-8cd2-d3a8782a8912",
   "metadata": {},
   "source": [
    "14 August 2022\n",
    "\n",
    "Introduction to Computational Literary Analysis\n",
    "\n",
    "Department of Digital Humanities, University of California, Berkeley\n",
    "\n",
    "Instructor: Jonathan Reeve"
   ]
  },
  {
   "cell_type": "markdown",
   "id": "2f11a95c-cc83-45cf-b9cc-6e5ac20126ff",
   "metadata": {},
   "source": [
    "## Introduction：\n",
    "Katherine Mansfield has acquired an international reputation as a writer of short stories, poetry, letters, journals and reviews. Her work has been translated into more than 25 languages according to the encyclopaedia of New Zealand. She really had gifts on short-story, of which the emotional depth, the subtlety and the symbolism has amazed readers all over the world generation by generation(Stephen,7). After reading the collection of her short novels *The Garden Party and Other Stories*, I was attracted by her impressive narration, especially by the frequent usage of flowers. Flowers are constantly recurring symbol on her stories which are beautiful, delicate, and transitory(Kimber,4). From the other point of view, meanings has been attributed to flowers for a long while and it has been an important part in some cultures. For this reason, I would choose flower as my research subject and use Katherine Mansfield's storied as my corpus. In this project, the flowers which appears in her several stories were be found and tabulated. Then, the further discussion would be proceeded based on the graphs. After that, several typical flowers were selected and their functions were to be discussed. In the end, I would draw my conclusion based on my complete ananysis.\n",
    "\n",
    "The texts I chose to form my corpus for studying is from the collection *The Garden Party and Other Stories*. Six stories were involved, which were red and disscussed together in class before. They were *The Garden Party*, *The Daughters of the Late Colonel*, *The Young Girl*, *Marriage a la Mode*, *Her First Ball*, and *An Ideal Family*.\n",
    "\n",
    "The tool I used is NLTK and pandas. I used NLTK in tokenizing and making a neat corpus. In addition to this, its WordNet and POS were used to find the flowers in corpus. \"Lexical dispersion plot\" and \"concordance\" were used in the last analysis as well. For pandas, I used it to form graphs which made it easy to analyze the data and make comparisons."
   ]
  },
  {
   "cell_type": "code",
   "execution_count": 151,
   "id": "da7fdd05-48f5-4967-b034-b5c7f27f453e",
   "metadata": {
    "tags": []
   },
   "outputs": [],
   "source": [
    "import nltk\n",
    "from nltk.corpus import wordnet as wn\n",
    "import pandas as pd\n",
    "from collections import Counter"
   ]
  },
  {
   "cell_type": "code",
   "execution_count": 152,
   "id": "1281225c-3bdd-40ea-a6c8-7b75edb3ee58",
   "metadata": {},
   "outputs": [],
   "source": [
    "garden=open('../icla2022-ubc/Garden-party.md').read()"
   ]
  },
  {
   "cell_type": "code",
   "execution_count": 153,
   "id": "20121bbb-b5f4-42e1-b359-ce2f4647eae1",
   "metadata": {},
   "outputs": [],
   "source": [
    "gardenParts=garden.split('\\n#')"
   ]
  },
  {
   "cell_type": "code",
   "execution_count": 154,
   "id": "d1113730-3318-4bad-b014-fa9a9e164af1",
   "metadata": {},
   "outputs": [],
   "source": [
    "storyDict={'The Garden Party':gardenParts[15],\n",
    "          'The Daughters of the Late Colonel':gardenParts[16:29],\n",
    "          'The Young Girl':gardenParts[30],\n",
    "          'Marriage a la Mode':gardenParts[32],\n",
    "          'Her First Ball':gardenParts[35],\n",
    "          'An Ideal Family':gardenParts[-2]}"
   ]
  },
  {
   "cell_type": "code",
   "execution_count": 155,
   "id": "8f128ed6-0f6e-43f2-ac79-eadea1d3c34e",
   "metadata": {
    "tags": []
   },
   "outputs": [],
   "source": [
    "gardenTokensDict={}\n",
    "for title in storyDict:\n",
    "    texts=storyDict[title]\n",
    "    lowerText=(''.join(texts)).lower()\n",
    "    tokens=nltk.word_tokenize(lowerText)\n",
    "    gardenTokensDict[title]=tokens"
   ]
  },
  {
   "cell_type": "markdown",
   "id": "32edeab0-6ba1-4dc0-8540-9474a75fdba2",
   "metadata": {
    "tags": []
   },
   "source": [
    "## Calculation of flowers\n",
    "According to Oxford Living Dictionary, there were 5 entries for the definition of flowers. In this project, I chose the first entry of noun, which was \"the coloured part of a plant from which the seed or fruit develops. Flowers usually grow at the end of a stem and last only a short time.\" Based on this definition, I calculated the frequency number of flowers which were used for subjects or objects. \n",
    "\n",
    "In my first analysis. I calculated all the flowers that appear in the six stories, and made a comparison. I used wordnet from NLTK to find all the possible hyponyms of \"flower\" and made a list. Then, I compared flower words of the list to my tokenized corpus. For the next, I took the common part. And finally, I counted their Number of occurrence and made this bar chart with pandas."
   ]
  },
  {
   "cell_type": "code",
   "execution_count": 156,
   "id": "83a91856-2edc-41fb-a0b1-84d534ce8482",
   "metadata": {},
   "outputs": [
    {
     "data": {
      "text/plain": [
       "[Synset('flower.n.01'),\n",
       " Synset('flower.n.02'),\n",
       " Synset('flower.n.03'),\n",
       " Synset('bloom.v.01')]"
      ]
     },
     "execution_count": 156,
     "metadata": {},
     "output_type": "execute_result"
    }
   ],
   "source": [
    "wn.synsets('flower')"
   ]
  },
  {
   "cell_type": "code",
   "execution_count": 157,
   "id": "5a23452c-0a79-4494-b7bd-fc9a55c754e1",
   "metadata": {},
   "outputs": [],
   "source": [
    "def findFlowerList(typE):\n",
    "    flower=wn.synset(typE)\n",
    "    flowerType=flower.hyponyms()\n",
    "    flowerList=sorted(set(lemma.name()for synset in flowerType\n",
    "                       for lemma in synset.lemmas()))\n",
    "    return flowerList"
   ]
  },
  {
   "cell_type": "markdown",
   "id": "c88f10e1-9284-448d-aa89-afd91741b2b4",
   "metadata": {},
   "source": [
    "There was only one word \"golden age\" in \"flower.n.03\", which was not a type of flower. As a result, based on the my definition in the previous paragraph, I chose the first 2 synsets. "
   ]
  },
  {
   "cell_type": "code",
   "execution_count": 158,
   "id": "c1030a2f-ac16-409f-9009-be2f6c686490",
   "metadata": {},
   "outputs": [],
   "source": [
    "flowerLists=findFlowerList('flower.n.01')+findFlowerList('flower.n.02')"
   ]
  },
  {
   "cell_type": "markdown",
   "id": "c00fc14b-08d8-4ed4-87ce-8b38020b199c",
   "metadata": {},
   "source": [
    "Some other flowers were in accord with the definition, but not in \"flower\" category. I searched for other possible synsets, which were \"herb\", \"shrub\" and \"wood\", and added the missing flower types manually."
   ]
  },
  {
   "cell_type": "code",
   "execution_count": 159,
   "id": "c2706788-f140-4e20-9efe-0adf53af5257",
   "metadata": {},
   "outputs": [],
   "source": [
    "\n",
    "otherFlowers=['rose','azalea','carnation','hydrangea','lavender','lily']\n",
    "flowers=flowerLists+otherFlowers"
   ]
  },
  {
   "cell_type": "code",
   "execution_count": 160,
   "id": "ded04e5b-4f9a-4717-b3fb-da46eec73a7c",
   "metadata": {},
   "outputs": [],
   "source": [
    "# initialize the tool to get lemmas\n",
    "lemmatizer=nltk.stem.WordNetLemmatizer()  "
   ]
  },
  {
   "cell_type": "code",
   "execution_count": 161,
   "id": "0177225c-eb13-48c0-a951-3a6c400086fa",
   "metadata": {},
   "outputs": [],
   "source": [
    "# I wanted to make a list that contains all lemmas of the six stories.  I started with make a list of tokens:\n",
    "gardenAllTokens=[]\n",
    "for title in gardenTokensDict:\n",
    "    tokens=gardenTokensDict[title]\n",
    "    for i in range(5):\n",
    "        gardenAllTokens=gardenAllTokens+gardenTokensDict[title]"
   ]
  },
  {
   "cell_type": "code",
   "execution_count": 162,
   "id": "a58ecde4-9a0a-48ff-9f1f-cf62e0b0a33d",
   "metadata": {},
   "outputs": [],
   "source": [
    "gardenLemmas=[lemmatizer.lemmatize(token) for token in gardenAllTokens]"
   ]
  },
  {
   "cell_type": "code",
   "execution_count": 163,
   "id": "2815a28b-e97f-4662-81ca-0fae0f12c02d",
   "metadata": {},
   "outputs": [],
   "source": [
    "gardenPOS=nltk.pos_tag(gardenLemmas)"
   ]
  },
  {
   "cell_type": "code",
   "execution_count": 164,
   "id": "00cd12c0-8836-4a6b-a412-f2c95f146d67",
   "metadata": {},
   "outputs": [],
   "source": [
    "gardenNouns=set(word for word, pos in gardenPOS if pos==\"NN\" or \"NNS\")"
   ]
  },
  {
   "cell_type": "code",
   "execution_count": 165,
   "id": "a6312406-cb86-4c53-95ca-b5e1ba3bc555",
   "metadata": {},
   "outputs": [],
   "source": [
    "#to get the list of flower which appeared both in two list\n",
    "commonFlower=gardenNouns&set(flowers)"
   ]
  },
  {
   "cell_type": "code",
   "execution_count": 166,
   "id": "b460db1a-c4b6-4f01-ac18-abd6b839fbd9",
   "metadata": {
    "tags": []
   },
   "outputs": [],
   "source": [
    "commonFlower=list(commonFlower)"
   ]
  },
  {
   "cell_type": "code",
   "execution_count": 167,
   "id": "d5b842ad-9868-4595-ac15-7b9487ac0bf2",
   "metadata": {},
   "outputs": [],
   "source": [
    "allNounsLemmaDict={}\n",
    "for title in gardenTokensDict:\n",
    "    tokens=gardenTokensDict[title]\n",
    "    gardenPOS=nltk.pos_tag(tokens)    #first: get all nouns(single and plural)\n",
    "    gardenNouns=[]\n",
    "    for word,tagset in gardenPOS:\n",
    "        if tagset=='NN':\n",
    "            gardenNouns.append(word)\n",
    "        if tagset=='NNS':\n",
    "            gardenNouns.append(word)\n",
    "        else:\n",
    "            gardenNouns=gardenNouns\n",
    "    gardenNounsLemma=[]               #sencond: lemmatize these nouns\n",
    "    for n in gardenNouns:\n",
    "        gardenNounsLemma.append(lemmatizer.lemmatize(n,'n'))\n",
    "    counted=Counter(gardenNounsLemma) #third: count all nouns\n",
    "    allNounsLemmaDict[title]=counted"
   ]
  },
  {
   "cell_type": "code",
   "execution_count": 168,
   "id": "52502a34-a9dc-40e9-95b6-3b74d6741ad2",
   "metadata": {},
   "outputs": [],
   "source": [
    "wordDF=pd.DataFrame(allNounsLemmaDict)"
   ]
  },
  {
   "cell_type": "code",
   "execution_count": 169,
   "id": "fe52377a-979e-4cbd-9cea-27e1f3584e68",
   "metadata": {},
   "outputs": [
    {
     "data": {
      "text/plain": [
       "<AxesSubplot:>"
      ]
     },
     "execution_count": 169,
     "metadata": {},
     "output_type": "execute_result"
    },
    {
     "data": {
      "image/png": "[encoded data removed]",
      "text/plain": [
       "<Figure size 720x576 with 1 Axes>"
      ]
     },
     "metadata": {
      "needs_background": "light"
     },
     "output_type": "display_data"
    }
   ],
   "source": [
    "wordDF.loc[commonFlower].T.plot(kind='bar',figsize=(10,8))"
   ]
  },
  {
   "cell_type": "markdown",
   "id": "667695cb-3abc-4c5d-bd26-659084d7b6eb",
   "metadata": {},
   "source": [
    "From the graph above, I noticed that \"pink\" was considered as a type of flower by NLTK. To verify whether this term was treated as a kind of flower by Mansfield, I made a function for locating all the sentences that have \"pink\": "
   ]
  },
  {
   "cell_type": "code",
   "execution_count": 170,
   "id": "2489b6ac-cb9d-42e2-865b-34f3a64cb340",
   "metadata": {},
   "outputs": [],
   "source": [
    "def findPinkLocation(title):\n",
    "    textWords=gardenTokensDict[title]\n",
    "    text=nltk.Text(textWords)\n",
    "    return text.concordance('pink')"
   ]
  },
  {
   "cell_type": "code",
   "execution_count": 171,
   "id": "d33185b8-0876-4d0a-897c-9ab73315e8dc",
   "metadata": {},
   "outputs": [
    {
     "name": "stdout",
     "output_type": "stream",
     "text": [
      "Displaying 2 of 2 matches:\n",
      " wide , shallow tray full of pots of pink lilies . no other kind . nothing but\n",
      "ng but lilies -- -canna lilies , big pink flowers , wide open , radiant , almo\n"
     ]
    }
   ],
   "source": [
    "findPinkLocation('The Garden Party')"
   ]
  },
  {
   "cell_type": "code",
   "execution_count": 172,
   "id": "b3deddb8-bbaa-4cd7-a4cf-580fe71afdc3",
   "metadata": {},
   "outputs": [
    {
     "name": "stdout",
     "output_type": "stream",
     "text": [
      "Displaying 2 of 2 matches:\n",
      "nd johnny had said , `` it 's always pink on mine . i hate pink . '' but what \n",
      "` it 's always pink on mine . i hate pink . '' but what was william to do ? th\n"
     ]
    }
   ],
   "source": [
    "findPinkLocation('Marriage a la Mode')"
   ]
  },
  {
   "cell_type": "code",
   "execution_count": 173,
   "id": "2cc8d972-efe9-4021-8422-426d354d44e3",
   "metadata": {},
   "outputs": [
    {
     "name": "stdout",
     "output_type": "stream",
     "text": [
      "Displaying 5 of 5 matches:\n",
      " . leila put two fingers on laura 's pink velvet cloak , and they were somehow\n",
      "le pink-and-silver programmes , with pink pencils and fluffy tassels . leila '\n",
      "parate flowers no longer ; they were pink and white flags streaming by . `` we\n",
      " against the wall . leila tucked her pink satin feet under and fanned herself \n",
      "ts , the azaleas , the dresses , the pink faces , the velvet chairs , all beca\n"
     ]
    }
   ],
   "source": [
    "findPinkLocation('Her First Ball')"
   ]
  },
  {
   "cell_type": "markdown",
   "id": "b46e2365-ce06-47c1-9fed-86e39a730802",
   "metadata": {},
   "source": [
    "After researching and comparing, we could see all the \"pink\" in the three stories refer to a kind of colour. So this word would be removed from the list \"commonFlower\" manually. The final version of graph that represented the flowers appeared in Mansfield's six stories is like this:"
   ]
  },
  {
   "cell_type": "code",
   "execution_count": 174,
   "id": "fd131de0-1d3f-43b0-a165-1a4a8f5c3d00",
   "metadata": {},
   "outputs": [
    {
     "data": {
      "image/png": "[encoded data removed]",
      "text/plain": [
       "<Figure size 720x576 with 1 Axes>"
      ]
     },
     "metadata": {
      "needs_background": "light"
     },
     "output_type": "display_data"
    }
   ],
   "source": [
    "commonFlower.remove('pink')\n",
    "df=wordDF.loc[commonFlower].T.plot(kind='bar',stacked=True,figsize=(10,8))\n"
   ]
  },
  {
   "cell_type": "markdown",
   "id": "6658475c-bede-4f8a-a50c-29257b74f5f1",
   "metadata": {},
   "source": [
    "From this graph, we could see not all these flowers happened in these stoires.The flower lily appreared the most for 7 times. The azalea is behind the lily that appeared for 3 times. Tuberose and hydrangea were the least, which appeared only once.\n",
    "\n",
    "It was prominent that *The Garden Party* owned the most type and most numbers of flowers. That was probably due to the stort's theme and background.The wealthy Sheridan family were preparing themselves to host a garden party. They owned a gorgeous garden where there were sevaral types of flowers. Mrs Sheridan had ordered masses of flowers as well, such as lilies. So it was no wonder that there appeared the most flower in this story.\n",
    "\n",
    "The information is distinct that the story *The Daughters of the Late Colonel* had no flowers. Its theme was about the colonal's funeral and the life of the daughters living with their father, which seemed that its theme had no direct relation with flower as *The Garden Party*. \n",
    "Was this phenomenon related to the stort's sentiment? In the next part, I would do some sentiment analysis."
   ]
  },
  {
   "cell_type": "markdown",
   "id": "41881229-9982-47d4-be7e-bf6cfc24f909",
   "metadata": {
    "tags": []
   },
   "source": [
    "## Sentiment Analysis\n",
    "\n",
    "In this part, I would used the tool'nltk sentiment' to analyze the compound sentiment of the text *The Daughters of the Late Colonel*, to test whether the occurrence of flowers was related to the sentiments of  selected text.\n"
   ]
  },
  {
   "cell_type": "code",
   "execution_count": 37,
   "id": "2be8419c-94e9-43fe-8bcd-bd42ea540716",
   "metadata": {},
   "outputs": [],
   "source": [
    "from nltk.sentiment import SentimentIntensityAnalyzer"
   ]
  },
  {
   "cell_type": "code",
   "execution_count": 38,
   "id": "455134b2-4fd8-422b-9cb9-3e8562831f18",
   "metadata": {},
   "outputs": [],
   "source": [
    "sentimentAnalyzer= SentimentIntensityAnalyzer()"
   ]
  },
  {
   "cell_type": "code",
   "execution_count": 39,
   "id": "aaf8530f-43c3-4fdb-bcf8-9b6ee46261aa",
   "metadata": {},
   "outputs": [],
   "source": [
    "def getSentiment(para):\n",
    "    return sentimentAnalyzer.polarity_scores(para)['compound']"
   ]
  },
  {
   "cell_type": "code",
   "execution_count": 40,
   "id": "43d4be37-1489-4ebb-ba3f-ca341629998a",
   "metadata": {},
   "outputs": [],
   "source": [
    "colo=' '.join(gardenParts[16:29])"
   ]
  },
  {
   "cell_type": "code",
   "execution_count": 41,
   "id": "dc9e5b5a-ac93-4617-940b-b74cecd275d6",
   "metadata": {},
   "outputs": [],
   "source": [
    "coloPara=colo.split('\\n\\n')"
   ]
  },
  {
   "cell_type": "code",
   "execution_count": 62,
   "id": "a871906f-c4b7-4a01-935c-35f8f4bbb2be",
   "metadata": {},
   "outputs": [],
   "source": [
    "coloSentimentData=[getSentiment(para) for para in coloPara]"
   ]
  },
  {
   "cell_type": "code",
   "execution_count": 63,
   "id": "7ef657e6-9931-4a9c-886c-94ca676abcb1",
   "metadata": {
    "tags": []
   },
   "outputs": [
    {
     "data": {
      "image/png": "[encoded data removed]",
      "text/plain": [
       "<Figure size 432x288 with 1 Axes>"
      ]
     },
     "metadata": {
      "needs_background": "light"
     },
     "output_type": "display_data"
    }
   ],
   "source": [
    "coloSentiment=pd.Series(coloSentimentData).rolling(50).mean().plot()"
   ]
  },
  {
   "cell_type": "markdown",
   "id": "e0076117-20a2-4646-b04f-9c662e9ea175",
   "metadata": {},
   "source": [
    "To make the graph smoother and easier to analyze, I rolled the sentiment data for taking average of each 50 paragraph. We could get the information that most parts of *The Daughters of the Late Colonel* were above zero line. That is to say, the sentiment of this text tended to positive, at least, not negative.\n",
    "\n",
    "Through history, people always use flower to express feelings, sentiment and association(Seaton,2). And we all get use of that flowers are used to express feelings, no matter possitive for negative. For example, jasmine is for amiability, and bramble is for envy(Grennaway,49). However, although it was intuitive to get the sentiment of *The Daughters of the Late Colonel* from the figure, the flower of this book was absent. This might indicate that flowers do have sentimental meanings. However, in Mansfield's story, the sentimental function may not be the leading role flowers. To figure out flowers function in Mansfield's stories, I would analyze some specific sentences."
   ]
  },
  {
   "cell_type": "markdown",
   "id": "a9679d4e-4d02-4699-a868-949a5a764ed8",
   "metadata": {},
   "source": [
    "## Flowers in the texts and it's function\n",
    "In this part, I would choose some typical flowers and try to make a expression of flowers' function in Mansfield's story based on there locations and context. "
   ]
  },
  {
   "cell_type": "code",
   "execution_count": 109,
   "id": "2bb137fb-f561-49f3-ab47-737e2d3670dd",
   "metadata": {},
   "outputs": [],
   "source": [
    "ballWords=gardenTokensDict['Her First Ball']"
   ]
  },
  {
   "cell_type": "code",
   "execution_count": 112,
   "id": "f361e11f-422c-457b-a4f3-7412417a0bb6",
   "metadata": {},
   "outputs": [],
   "source": [
    "ballText=nltk.Text(ballWords)"
   ]
  },
  {
   "cell_type": "code",
   "execution_count": 113,
   "id": "8575aabc-09f9-4ff3-978d-1c0176d4d973",
   "metadata": {},
   "outputs": [
    {
     "data": {
      "image/png": "[encoded data removed]",
      "text/plain": [
       "<Figure size 432x288 with 1 Axes>"
      ]
     },
     "metadata": {
      "needs_background": "light"
     },
     "output_type": "display_data"
    }
   ],
   "source": [
    "ballText.dispersion_plot(['azaleas'])"
   ]
  },
  {
   "cell_type": "code",
   "execution_count": 114,
   "id": "9b5dcb90-0888-4b86-a7ee-6cf42ee8cea7",
   "metadata": {},
   "outputs": [
    {
     "name": "stdout",
     "output_type": "stream",
     "text": [
      "Displaying 3 of 3 matches:\n",
      "t the gleaming , golden floor , the azaleas , the lanterns , the stage at one e\n",
      "tleman always clutched you so . the azaleas were separate flowers no longer ; t\n",
      " glided , glided . the lights , the azaleas , the dresses , the pink faces , th\n"
     ]
    }
   ],
   "source": [
    "ballText.concordance('azaleas')"
   ]
  },
  {
   "cell_type": "markdown",
   "id": "1eb3d52b-b433-417c-87ed-41ea7ebf28a4",
   "metadata": {},
   "source": [
    "I made this Lexical dispersion plot to find the location of azaleas. With the function of \"concordance\", I found sentences where these words lie:\n",
    ">She clutched her fan, and, gazing at the gleaming, golden floor, the azaleas, the lanterns, the stage at one end with its red carpet and gilt chairs and the band in a corner, she thought breathlessly, “How heavenly; how simply heavenly!”\n",
    "\n",
    ">The azaleas were separate flowers no longer; they were pink and white flags streaming by.\n",
    "\n",
    ">The lights, the azaleas, the dresses, the pink faces, the velvet chairs, all became one beautiful flying wheel.\n",
    "\n",
    "Give a close read and compare these sentence, we can find the first was \"heavenly\" azaleas, the second was \"seperate\", the last I  called it \"dazzing\" azaleas. Just as Shen mentioned, Convert progressions are the supplement of overt plots sometimes(Shen D.,277). We could see that the changes in azaleas is correspond with the changes in Character Laura's emotions.\n",
    "\n",
    "Besides, the azalea here was a symbol of the character as well. Take a look at the last appearance of this word:\n",
    "> The lights, the azaleas, the dresses, the pink faces, the velvet chairs, all became one beautiful flying wheel.\n",
    "\n",
    "As azaleas is pink, \"the pink faces\" here might indicate girls who joined the ball. The dances made their face pink as azaleas. Moreover, according to document, azalea had the language of temperance. It was a little bit ironic that the girls were chasing their marvellous time, which rebelled the temperance to some kind. \n"
   ]
  },
  {
   "cell_type": "markdown",
   "id": "2789652b-8812-4694-a851-cc9805495144",
   "metadata": {},
   "source": [
    "Mansfield was writing in a period characterised by a crisis in and of gender, a crisis fuelled both by the continuing feminist debate and challenges to the established social and political order(Simpson,2015). So I would choose other flowers for interpretation: "
   ]
  },
  {
   "cell_type": "code",
   "execution_count": 145,
   "id": "c2a793d2-a19d-46db-a923-fc02df841126",
   "metadata": {},
   "outputs": [],
   "source": [
    "def findLilyLocation(title):\n",
    "    textWords=gardenTokensDict[title]\n",
    "    text=nltk.Text(textWords)\n",
    "    return text.concordance('lilies')"
   ]
  },
  {
   "cell_type": "code",
   "execution_count": 146,
   "id": "df3f3996-ba00-415c-b32b-0125f62b6ca6",
   "metadata": {},
   "outputs": [
    {
     "name": "stdout",
     "output_type": "stream",
     "text": [
      "Displaying 8 of 8 matches:\n",
      ", shallow tray full of pots of pink lilies . no other kind . nothing but lilie\n",
      "ilies . no other kind . nothing but lilies -- -canna lilies , big pink flowers\n",
      "kind . nothing but lilies -- -canna lilies , big pink flowers , wide open , ra\n",
      "if to warm herself at that blaze of lilies ; she felt they were in her fingers\n",
      "n my life i shall have enough canna lilies . the garden-party will be a good e\n",
      "ere 's the man . '' he carried more lilies still , another whole tray . `` ban\n",
      "you are . no , wait , take the arum lilies too . people of that class are so i\n",
      "that class are so impressed by arum lilies . '' `` the stems will ruin her lac\n"
     ]
    }
   ],
   "source": [
    "findLilyLocation('The Garden Party')"
   ]
  },
  {
   "cell_type": "code",
   "execution_count": 124,
   "id": "636de9e8-ae27-4013-9be4-eb408919420b",
   "metadata": {},
   "outputs": [],
   "source": [
    "def findLavenderLocation(title):\n",
    "    textWords=gardenTokensDict[title]\n",
    "    text=nltk.Text(textWords)\n",
    "    return text.concordance('lavender')"
   ]
  },
  {
   "cell_type": "code",
   "execution_count": 125,
   "id": "b2bc1cbc-1879-4127-9292-ec5f7cd45957",
   "metadata": {},
   "outputs": [
    {
     "name": "stdout",
     "output_type": "stream",
     "text": [
      "Displaying 2 of 2 matches:\n",
      " he bent down , pinched a sprig of lavender , put his thumb and forefinger to \n",
      "e that -- -caring for the smell of lavender . how many men that she knew would\n"
     ]
    }
   ],
   "source": [
    "findLavenderLocation('The Garden Party')"
   ]
  },
  {
   "cell_type": "markdown",
   "id": "fc2afcd6-74e5-4e95-bbe6-cad858f2c521",
   "metadata": {},
   "source": [
    "After locating the sentences where lilies and lavenders lie, I found 2 interesting sentences:\n",
    "\n",
    ">It was, indeed. There, just inside the door, stood a wide, shallow tray full of pots of pink lilies. No other kind. Nothing but lilies—canna lilies, big pink flowers, wide open, radiant, almost frighteningly alive on bright crimson stems.\n",
    "\n",
    "> He bent down, pinched a sprig of lavender, put his thumb and forefinger to his nose and snuffed up the smell. \n",
    "\n",
    "Considering the shape and other characteristics of lily and lanvender, we can infer that these two flowers had senses of sexual orientation. Lily and lanvender here indicated sex organs of female and male. This was the awaken of feminist and also gender issues. Through these 2 sentences, we could see sexual issues were discussed. Moreover, in other stories in Mansfield's collection, the part of woman body were prensented straightforward, which did was a progress, compared to *The Moonstone* and other Victorian literature.\n",
    "\n",
    "Besides, the subtle metaphors of flowers went with the unconscious growth of the charactee. In the story *The Garden Party*, character Laura was in her adolescence age. The innocent girl had some fancy on the workmen in her house for the garden party because workmen came from the class she was different and not well familiar with and curiosity as well as the nature of her age made the sexual vision. Manfield didn't make comparison directly. Instead, these metaphors were subtle adn barely noticeable. I think in Laura's age, this fancy was uncontrolled and appeared without being aware of it. This unconscious behavior was just the her changes in growth, and it was correspond with the narrative of these two sentences.\n",
    "\n"
   ]
  },
  {
   "cell_type": "markdown",
   "id": "375e03a7-5b53-4d05-a4a2-620d5a3e0ddc",
   "metadata": {},
   "source": [
    "## Conclusion\n",
    "Flower has an important role in our life. Flowers carry on specialized meannings in our culture. Not only we use them to express our emotions to our beloved ones, friends or for some specific occasions, but we often encounter them in literature as a image of symbol. Flowers do reflect sentiments in literature sometimes. But for six stories *The Garden Party*, *The Daughters of the Late Colonel*, *The Young Girl*, *Marriage a la Mode*, *Her First Ball* and *An Ideal Family* of Katherine Mansfield, flowers are not the key role that convey sentiments. The narrative of flowers is like a secrect line in the stories. It's the overt plot as well as a convert progression of the main narrative of which is the supplement when it changes. \n",
    "\n",
    "To interprating flower's symbolic image further, detailed analysis of the sentences where flower words lie was conducted. 2 features were outstanding. One is the flowers were the representation of a group of people or a single person who might share the similar characteristics with flowers. The other is the flowers had sexual metaphor. Both of them can reflect the social background of Katherine Mansfield -- the awakening and liberty age in cultures.\n",
    "\n",
    "\n",
    "In conclusion, the role of flowers in these Katherine Mansfield's six stories might not be used to indicate the sentiment. Instead, they were related to characters, and were complements of the main plots."
   ]
  },
  {
   "cell_type": "markdown",
   "id": "861ad49f-4e07-4c86-8126-45ca395b8a23",
   "metadata": {},
   "source": [
    "## Works Cited\n",
    "\n",
    "Arkin,Stephen. Introduction. The collected stories of Katherine Mansfield. Hertfordshire:Wordsworth Editions, 2006.\n",
    "\n",
    "Greenaway,Kate. Language of flowers. London ; New York : F. Warne, 2007.\n",
    "\n",
    "Kimber, Gerri. \"From major to minor: critical (mis) interpretation in the fiction of Katherine Mansfield.\" 2001 Group French Studies E-Journal: Critical Voices 3 (2008).\n",
    "\n",
    "Kimber, Gerri. Katherine Mansfield and the Art of the Short Story. Springer, 2014.\n",
    "\n",
    "Seaton, Beverly. The language of flowers: A history. University of Virginia Press, 2012.\n",
    "\n",
    "Shen, Dan. “Style and Rhetoric of Short Narrative Fiction.” Style, vol. 47, no. 01, 2013, pp. 276–298., https://doi.org/10.4324/9780203093122. \n",
    "\n",
    "Simpson, Kathryn. \"Strange flower, half opened’: Katherine Mansfield and the Flowering of ‘the Self.\" Katherine Mansfield and Continental Europe. Palgrave Macmillan, London, 2015. 185-201.\n",
    "\n",
    "\n"
   ]
  },
  {
   "cell_type": "code",
   "execution_count": null,
   "id": "c5d619da-080a-4091-8fd5-790fbf6b26c1",
   "metadata": {},
   "outputs": [],
   "source": []
  }
 ],
 "metadata": {
  "kernelspec": {
   "display_name": "Python 3 (ipykernel)",
   "language": "python",
   "name": "python3"
  },
  "language_info": {
   "codemirror_mode": {
    "name": "ipython",
    "version": 3
   },
   "file_extension": ".py",
   "mimetype": "text/x-python",
   "name": "python",
   "nbconvert_exporter": "python",
   "pygments_lexer": "ipython3",
   "version": "3.9.12"
  }
 },
 "nbformat": 4,
 "nbformat_minor": 5
}
